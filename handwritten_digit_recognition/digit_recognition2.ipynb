{
 "cells": [
  {
   "cell_type": "code",
   "execution_count": null,
   "id": "5b17ff4e-7c93-496d-a6d0-6b27d92e60a0",
   "metadata": {},
   "outputs": [],
   "source": [
    "%pip install torch==2.4.1\n",
    "%pip install torchvision==0.19.1\n",
    "%pip install torchaudio==2.4.1\n",
    "%pip install --upgrade numpy==2.1.2\n",
    "%pip install matplotlib"
   ]
  },
  {
   "cell_type": "code",
   "execution_count": 1,
   "id": "020d2f70-5343-4a96-9987-6dbf260eff2d",
   "metadata": {},
   "outputs": [],
   "source": [
    "import torch\n",
    "import torch.nn as nn\n",
    "import torch.optim as optim\n",
    "import torchvision\n",
    "import torchvision.transforms as transforms\n",
    "import matplotlib.pyplot as plt\n",
    "import numpy as np"
   ]
  },
  {
   "cell_type": "code",
   "execution_count": 2,
   "id": "35164f82-718f-4703-8914-5babc4817388",
   "metadata": {},
   "outputs": [
    {
     "name": "stdout",
     "output_type": "stream",
     "text": [
      "Using device: cpu\n"
     ]
    }
   ],
   "source": [
    "# 确保使用 CPU 运行\n",
    "device = torch.device(\"cpu\")\n",
    "print(f\"Using device: {device}\")"
   ]
  },
  {
   "cell_type": "code",
   "execution_count": 3,
   "id": "8845755c-7f3b-4507-86b2-efa51dd0a343",
   "metadata": {},
   "outputs": [],
   "source": [
    "# 1. 数据预处理\n",
    "transform = transforms.Compose([transforms.ToTensor(), transforms.Normalize((0.5,), (0.5,))])"
   ]
  },
  {
   "cell_type": "code",
   "execution_count": 4,
   "id": "39d0293b-3711-4810-b8a7-a0a130570b06",
   "metadata": {},
   "outputs": [],
   "source": [
    "# 2. 加载数据集\n",
    "trainset = torchvision.datasets.MNIST(root='./data', train=True, download=True, transform=transform)\n",
    "testset = torchvision.datasets.MNIST(root='./data', train=False, download=True, transform=transform)\n",
    "\n",
    "trainloader = torch.utils.data.DataLoader(trainset, batch_size=32, shuffle=True)\n",
    "testloader = torch.utils.data.DataLoader(testset, batch_size=32, shuffle=False)"
   ]
  },
  {
   "cell_type": "code",
   "execution_count": 5,
   "id": "b2886d8f-3365-404c-841b-4bce2c7cbac6",
   "metadata": {},
   "outputs": [],
   "source": [
    "# 3. 定义神经网络模型\n",
    "class Net(nn.Module):\n",
    "    def __init__(self):\n",
    "        super(Net, self).__init__()\n",
    "        self.fc1 = nn.Linear(28 * 28, 128)\n",
    "        self.fc2 = nn.Linear(128, 64)\n",
    "        self.fc3 = nn.Linear(64, 10)\n",
    "\n",
    "    def forward(self, x):\n",
    "        x = x.view(-1, 28 * 28)\n",
    "        x = torch.relu(self.fc1(x))\n",
    "        x = torch.relu(self.fc2(x))\n",
    "        x = self.fc3(x)\n",
    "        return x"
   ]
  },
  {
   "cell_type": "code",
   "execution_count": 6,
   "id": "bf2c76a8-b69b-4247-92cb-eb7a009cff4e",
   "metadata": {},
   "outputs": [],
   "source": [
    "# 4. 创建模型、损失函数和优化器\n",
    "model = Net().to(device)\n",
    "criterion = nn.CrossEntropyLoss()\n",
    "optimizer = optim.Adam(model.parameters(), lr=0.001)"
   ]
  },
  {
   "cell_type": "code",
   "execution_count": 7,
   "id": "a6a64183-0453-4e39-9b67-83b88eb624af",
   "metadata": {},
   "outputs": [
    {
     "name": "stdout",
     "output_type": "stream",
     "text": [
      "Epoch 1, Loss: 0.3489\n",
      "Epoch 2, Loss: 0.1669\n",
      "Epoch 3, Loss: 0.1276\n",
      "Epoch 4, Loss: 0.1057\n",
      "Epoch 5, Loss: 0.0890\n",
      "Epoch 6, Loss: 0.0818\n",
      "Epoch 7, Loss: 0.0723\n",
      "Epoch 8, Loss: 0.0644\n",
      "Epoch 9, Loss: 0.0627\n",
      "Epoch 10, Loss: 0.0559\n"
     ]
    }
   ],
   "source": [
    "def train_model(model, trainloader, epochs=10):\n",
    "    model.train()\n",
    "    for epoch in range(epochs):\n",
    "        running_loss = 0.0\n",
    "        for images, labels in trainloader:\n",
    "            images, labels = images.to(device), labels.to(device)  # 确保数据在 CPU 上\n",
    "            optimizer.zero_grad()\n",
    "            outputs = model(images)\n",
    "            loss = criterion(outputs, labels)\n",
    "            loss.backward()\n",
    "            optimizer.step()\n",
    "            running_loss += loss.item()\n",
    "        print(f'Epoch {epoch+1}, Loss: {running_loss/len(trainloader):.4f}')\n",
    "\n",
    "train_model(model, trainloader)"
   ]
  },
  {
   "cell_type": "code",
   "execution_count": 8,
   "id": "5cb010ff-d3db-4dd7-80ad-29a818dcd002",
   "metadata": {},
   "outputs": [
    {
     "name": "stdout",
     "output_type": "stream",
     "text": [
      "测试集准确率: 0.9739\n"
     ]
    }
   ],
   "source": [
    "# 6. 评估模型\n",
    "def evaluate_model(model, testloader):\n",
    "    model.eval()\n",
    "    correct = 0\n",
    "    total = 0\n",
    "    with torch.no_grad():\n",
    "        for images, labels in testloader:\n",
    "            images, labels = images.to(device), labels.to(device)  # 确保数据在 CPU 上\n",
    "            outputs = model(images)\n",
    "            _, predicted = torch.max(outputs, 1)\n",
    "            total += labels.size(0)\n",
    "            correct += (predicted == labels).sum().item()\n",
    "    print(f'测试集准确率: {correct / total:.4f}')\n",
    "\n",
    "evaluate_model(model, testloader)"
   ]
  },
  {
   "cell_type": "code",
   "execution_count": 10,
   "id": "539ae8f0-4ab2-43f9-8bc1-40c4ddd0c8c2",
   "metadata": {},
   "outputs": [
    {
     "data": {
      "image/png": "[encoded data removed]",
      "text/plain": [
       "<Figure size 1000x500 with 10 Axes>"
      ]
     },
     "metadata": {},
     "output_type": "display_data"
    }
   ],
   "source": [
    "# 7. 可视化预测结果\n",
    "def plot_predictions(model, testloader):\n",
    "    model.eval()\n",
    "    images, labels = next(iter(testloader))\n",
    "    images, labels = images.to(device), labels.to(device)  # 确保数据在 CPU 上\n",
    "\n",
    "    with torch.no_grad():\n",
    "        outputs = model(images)\n",
    "        _, predicted = torch.max(outputs, 1)\n",
    "\n",
    "    fig, axes = plt.subplots(2, 5, figsize=(10, 5))\n",
    "    for i, ax in enumerate(axes.flat):\n",
    "        img = images[i].cpu().squeeze().numpy()  # 转换为 CPU 数据\n",
    "        ax.imshow(img, cmap='gray')\n",
    "        ax.set_title(f'Pred: {predicted[i].item()} True: {labels[i].item()}',\n",
    "                     color='blue' if predicted[i] == labels[i] else 'red')\n",
    "        ax.axis('off')\n",
    "    plt.show()\n",
    "\n",
    "plot_predictions(model, testloader)"
   ]
  }
 ],
 "metadata": {
  "kernelspec": {
   "display_name": ".venv",
   "language": "python",
   "name": "python3"
  },
  "language_info": {
   "codemirror_mode": {
    "name": "ipython",
    "version": 3
   },
   "file_extension": ".py",
   "mimetype": "text/x-python",
   "name": "python",
   "nbconvert_exporter": "python",
   "pygments_lexer": "ipython3",
   "version": "3.12.2"
  }
 },
 "nbformat": 4,
 "nbformat_minor": 5
}
